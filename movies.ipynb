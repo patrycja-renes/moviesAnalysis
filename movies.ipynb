{
 "cells": [
  {
   "cell_type": "markdown",
   "metadata": {
    "raw_mimetype": "text/markdown"
   },
   "source": [
    "# Introduction"
   ]
  },
  {
   "cell_type": "markdown",
   "metadata": {},
   "source": [
    "The goal of this exercise is to develop a model that predicts a movie's popularity, using available categorical and numerical features.\n",
    "\n",
    "The main obstacles encountered are the following:\n",
    "  1) The dataset requires a lot of cleaning and feature engineering in order to be usable; \n",
    "  2) A huge part (~75%) of the entire dataset have two important variables missing and because of that, it needs to be deleted;\n",
    "  3) There is a need to introduce a regression imputation for two different variables before developing a final model. \n",
    "\n",
    "In this exercise, the Movies Dataset available on Kaggle is used. For more information, please see below:\n",
    "https://www.kaggle.com/rounakbanik/the-movies-dataset"
   ]
  },
  {
   "cell_type": "markdown",
   "metadata": {},
   "source": [
    "# Importing libraries, first look at the data"
   ]
  },
  {
   "cell_type": "code",
   "execution_count": 37,
   "metadata": {},
   "outputs": [],
   "source": [
    "import pandas as pd\n",
    "import numpy as np\n",
    "import matplotlib.pyplot as plt\n",
    "%matplotlib inline\n",
    "import seaborn as sns"
   ]
  },
  {
   "cell_type": "code",
   "execution_count": 38,
   "metadata": {},
   "outputs": [],
   "source": [
    "import os"
   ]
  },
  {
   "cell_type": "code",
   "execution_count": 39,
   "metadata": {},
   "outputs": [],
   "source": [
    "movies_data = open(\"movies_metadata.csv\", encoding=\"utf8\")"
   ]
  },
  {
   "cell_type": "code",
   "execution_count": 40,
   "metadata": {},
   "outputs": [
    {
     "name": "stderr",
     "output_type": "stream",
     "text": [
      "C:\\Users\\Patrycja\\anaconda3\\lib\\site-packages\\IPython\\core\\interactiveshell.py:3146: DtypeWarning: Columns (10) have mixed types.Specify dtype option on import or set low_memory=False.\n",
      "  has_raised = await self.run_ast_nodes(code_ast.body, cell_name,\n"
     ]
    }
   ],
   "source": [
    "movies_dataset = pd.read_csv(movies_data)"
   ]
  },
  {
   "cell_type": "code",
   "execution_count": 41,
   "metadata": {},
   "outputs": [
    {
     "data": {
      "text/html": [
       "<div>\n",
       "<style scoped>\n",
       "    .dataframe tbody tr th:only-of-type {\n",
       "        vertical-align: middle;\n",
       "    }\n",
       "\n",
       "    .dataframe tbody tr th {\n",
       "        vertical-align: top;\n",
       "    }\n",
       "\n",
       "    .dataframe thead th {\n",
       "        text-align: right;\n",
       "    }\n",
       "</style>\n",
       "<table border=\"1\" class=\"dataframe\">\n",
       "  <thead>\n",
       "    <tr style=\"text-align: right;\">\n",
       "      <th></th>\n",
       "      <th>adult</th>\n",
       "      <th>belongs_to_collection</th>\n",
       "      <th>budget</th>\n",
       "      <th>genres</th>\n",
       "      <th>homepage</th>\n",
       "      <th>id</th>\n",
       "      <th>imdb_id</th>\n",
       "      <th>original_language</th>\n",
       "      <th>original_title</th>\n",
       "      <th>overview</th>\n",
       "      <th>...</th>\n",
       "      <th>release_date</th>\n",
       "      <th>revenue</th>\n",
       "      <th>runtime</th>\n",
       "      <th>spoken_languages</th>\n",
       "      <th>status</th>\n",
       "      <th>tagline</th>\n",
       "      <th>title</th>\n",
       "      <th>video</th>\n",
       "      <th>vote_average</th>\n",
       "      <th>vote_count</th>\n",
       "    </tr>\n",
       "  </thead>\n",
       "  <tbody>\n",
       "    <tr>\n",
       "      <th>0</th>\n",
       "      <td>False</td>\n",
       "      <td>{'id': 10194, 'name': 'Toy Story Collection', ...</td>\n",
       "      <td>30000000</td>\n",
       "      <td>[{'id': 16, 'name': 'Animation'}, {'id': 35, '...</td>\n",
       "      <td>http://toystory.disney.com/toy-story</td>\n",
       "      <td>862</td>\n",
       "      <td>tt0114709</td>\n",
       "      <td>en</td>\n",
       "      <td>Toy Story</td>\n",
       "      <td>Led by Woody, Andy's toys live happily in his ...</td>\n",
       "      <td>...</td>\n",
       "      <td>1995-10-30</td>\n",
       "      <td>373554033.0</td>\n",
       "      <td>81.0</td>\n",
       "      <td>[{'iso_639_1': 'en', 'name': 'English'}]</td>\n",
       "      <td>Released</td>\n",
       "      <td>NaN</td>\n",
       "      <td>Toy Story</td>\n",
       "      <td>False</td>\n",
       "      <td>7.7</td>\n",
       "      <td>5415.0</td>\n",
       "    </tr>\n",
       "    <tr>\n",
       "      <th>1</th>\n",
       "      <td>False</td>\n",
       "      <td>NaN</td>\n",
       "      <td>65000000</td>\n",
       "      <td>[{'id': 12, 'name': 'Adventure'}, {'id': 14, '...</td>\n",
       "      <td>NaN</td>\n",
       "      <td>8844</td>\n",
       "      <td>tt0113497</td>\n",
       "      <td>en</td>\n",
       "      <td>Jumanji</td>\n",
       "      <td>When siblings Judy and Peter discover an encha...</td>\n",
       "      <td>...</td>\n",
       "      <td>1995-12-15</td>\n",
       "      <td>262797249.0</td>\n",
       "      <td>104.0</td>\n",
       "      <td>[{'iso_639_1': 'en', 'name': 'English'}, {'iso...</td>\n",
       "      <td>Released</td>\n",
       "      <td>Roll the dice and unleash the excitement!</td>\n",
       "      <td>Jumanji</td>\n",
       "      <td>False</td>\n",
       "      <td>6.9</td>\n",
       "      <td>2413.0</td>\n",
       "    </tr>\n",
       "    <tr>\n",
       "      <th>2</th>\n",
       "      <td>False</td>\n",
       "      <td>{'id': 119050, 'name': 'Grumpy Old Men Collect...</td>\n",
       "      <td>0</td>\n",
       "      <td>[{'id': 10749, 'name': 'Romance'}, {'id': 35, ...</td>\n",
       "      <td>NaN</td>\n",
       "      <td>15602</td>\n",
       "      <td>tt0113228</td>\n",
       "      <td>en</td>\n",
       "      <td>Grumpier Old Men</td>\n",
       "      <td>A family wedding reignites the ancient feud be...</td>\n",
       "      <td>...</td>\n",
       "      <td>1995-12-22</td>\n",
       "      <td>0.0</td>\n",
       "      <td>101.0</td>\n",
       "      <td>[{'iso_639_1': 'en', 'name': 'English'}]</td>\n",
       "      <td>Released</td>\n",
       "      <td>Still Yelling. Still Fighting. Still Ready for...</td>\n",
       "      <td>Grumpier Old Men</td>\n",
       "      <td>False</td>\n",
       "      <td>6.5</td>\n",
       "      <td>92.0</td>\n",
       "    </tr>\n",
       "    <tr>\n",
       "      <th>3</th>\n",
       "      <td>False</td>\n",
       "      <td>NaN</td>\n",
       "      <td>16000000</td>\n",
       "      <td>[{'id': 35, 'name': 'Comedy'}, {'id': 18, 'nam...</td>\n",
       "      <td>NaN</td>\n",
       "      <td>31357</td>\n",
       "      <td>tt0114885</td>\n",
       "      <td>en</td>\n",
       "      <td>Waiting to Exhale</td>\n",
       "      <td>Cheated on, mistreated and stepped on, the wom...</td>\n",
       "      <td>...</td>\n",
       "      <td>1995-12-22</td>\n",
       "      <td>81452156.0</td>\n",
       "      <td>127.0</td>\n",
       "      <td>[{'iso_639_1': 'en', 'name': 'English'}]</td>\n",
       "      <td>Released</td>\n",
       "      <td>Friends are the people who let you be yourself...</td>\n",
       "      <td>Waiting to Exhale</td>\n",
       "      <td>False</td>\n",
       "      <td>6.1</td>\n",
       "      <td>34.0</td>\n",
       "    </tr>\n",
       "    <tr>\n",
       "      <th>4</th>\n",
       "      <td>False</td>\n",
       "      <td>{'id': 96871, 'name': 'Father of the Bride Col...</td>\n",
       "      <td>0</td>\n",
       "      <td>[{'id': 35, 'name': 'Comedy'}]</td>\n",
       "      <td>NaN</td>\n",
       "      <td>11862</td>\n",
       "      <td>tt0113041</td>\n",
       "      <td>en</td>\n",
       "      <td>Father of the Bride Part II</td>\n",
       "      <td>Just when George Banks has recovered from his ...</td>\n",
       "      <td>...</td>\n",
       "      <td>1995-02-10</td>\n",
       "      <td>76578911.0</td>\n",
       "      <td>106.0</td>\n",
       "      <td>[{'iso_639_1': 'en', 'name': 'English'}]</td>\n",
       "      <td>Released</td>\n",
       "      <td>Just When His World Is Back To Normal... He's ...</td>\n",
       "      <td>Father of the Bride Part II</td>\n",
       "      <td>False</td>\n",
       "      <td>5.7</td>\n",
       "      <td>173.0</td>\n",
       "    </tr>\n",
       "  </tbody>\n",
       "</table>\n",
       "<p>5 rows × 24 columns</p>\n",
       "</div>"
      ],
      "text/plain": [
       "   adult                              belongs_to_collection    budget  \\\n",
       "0  False  {'id': 10194, 'name': 'Toy Story Collection', ...  30000000   \n",
       "1  False                                                NaN  65000000   \n",
       "2  False  {'id': 119050, 'name': 'Grumpy Old Men Collect...         0   \n",
       "3  False                                                NaN  16000000   \n",
       "4  False  {'id': 96871, 'name': 'Father of the Bride Col...         0   \n",
       "\n",
       "                                              genres  \\\n",
       "0  [{'id': 16, 'name': 'Animation'}, {'id': 35, '...   \n",
       "1  [{'id': 12, 'name': 'Adventure'}, {'id': 14, '...   \n",
       "2  [{'id': 10749, 'name': 'Romance'}, {'id': 35, ...   \n",
       "3  [{'id': 35, 'name': 'Comedy'}, {'id': 18, 'nam...   \n",
       "4                     [{'id': 35, 'name': 'Comedy'}]   \n",
       "\n",
       "                               homepage     id    imdb_id original_language  \\\n",
       "0  http://toystory.disney.com/toy-story    862  tt0114709                en   \n",
       "1                                   NaN   8844  tt0113497                en   \n",
       "2                                   NaN  15602  tt0113228                en   \n",
       "3                                   NaN  31357  tt0114885                en   \n",
       "4                                   NaN  11862  tt0113041                en   \n",
       "\n",
       "                original_title  \\\n",
       "0                    Toy Story   \n",
       "1                      Jumanji   \n",
       "2             Grumpier Old Men   \n",
       "3            Waiting to Exhale   \n",
       "4  Father of the Bride Part II   \n",
       "\n",
       "                                            overview  ... release_date  \\\n",
       "0  Led by Woody, Andy's toys live happily in his ...  ...   1995-10-30   \n",
       "1  When siblings Judy and Peter discover an encha...  ...   1995-12-15   \n",
       "2  A family wedding reignites the ancient feud be...  ...   1995-12-22   \n",
       "3  Cheated on, mistreated and stepped on, the wom...  ...   1995-12-22   \n",
       "4  Just when George Banks has recovered from his ...  ...   1995-02-10   \n",
       "\n",
       "       revenue runtime                                   spoken_languages  \\\n",
       "0  373554033.0    81.0           [{'iso_639_1': 'en', 'name': 'English'}]   \n",
       "1  262797249.0   104.0  [{'iso_639_1': 'en', 'name': 'English'}, {'iso...   \n",
       "2          0.0   101.0           [{'iso_639_1': 'en', 'name': 'English'}]   \n",
       "3   81452156.0   127.0           [{'iso_639_1': 'en', 'name': 'English'}]   \n",
       "4   76578911.0   106.0           [{'iso_639_1': 'en', 'name': 'English'}]   \n",
       "\n",
       "     status                                            tagline  \\\n",
       "0  Released                                                NaN   \n",
       "1  Released          Roll the dice and unleash the excitement!   \n",
       "2  Released  Still Yelling. Still Fighting. Still Ready for...   \n",
       "3  Released  Friends are the people who let you be yourself...   \n",
       "4  Released  Just When His World Is Back To Normal... He's ...   \n",
       "\n",
       "                         title  video vote_average vote_count  \n",
       "0                    Toy Story  False          7.7     5415.0  \n",
       "1                      Jumanji  False          6.9     2413.0  \n",
       "2             Grumpier Old Men  False          6.5       92.0  \n",
       "3            Waiting to Exhale  False          6.1       34.0  \n",
       "4  Father of the Bride Part II  False          5.7      173.0  \n",
       "\n",
       "[5 rows x 24 columns]"
      ]
     },
     "execution_count": 41,
     "metadata": {},
     "output_type": "execute_result"
    }
   ],
   "source": [
    "movies_dataset.head()"
   ]
  },
  {
   "cell_type": "code",
   "execution_count": 42,
   "metadata": {},
   "outputs": [
    {
     "name": "stdout",
     "output_type": "stream",
     "text": [
      "<class 'pandas.core.frame.DataFrame'>\n",
      "RangeIndex: 45466 entries, 0 to 45465\n",
      "Data columns (total 24 columns):\n",
      " #   Column                 Non-Null Count  Dtype  \n",
      "---  ------                 --------------  -----  \n",
      " 0   adult                  45466 non-null  object \n",
      " 1   belongs_to_collection  4494 non-null   object \n",
      " 2   budget                 45466 non-null  object \n",
      " 3   genres                 45466 non-null  object \n",
      " 4   homepage               7782 non-null   object \n",
      " 5   id                     45466 non-null  object \n",
      " 6   imdb_id                45449 non-null  object \n",
      " 7   original_language      45455 non-null  object \n",
      " 8   original_title         45466 non-null  object \n",
      " 9   overview               44512 non-null  object \n",
      " 10  popularity             45461 non-null  object \n",
      " 11  poster_path            45080 non-null  object \n",
      " 12  production_companies   45463 non-null  object \n",
      " 13  production_countries   45463 non-null  object \n",
      " 14  release_date           45379 non-null  object \n",
      " 15  revenue                45460 non-null  float64\n",
      " 16  runtime                45203 non-null  float64\n",
      " 17  spoken_languages       45460 non-null  object \n",
      " 18  status                 45379 non-null  object \n",
      " 19  tagline                20412 non-null  object \n",
      " 20  title                  45460 non-null  object \n",
      " 21  video                  45460 non-null  object \n",
      " 22  vote_average           45460 non-null  float64\n",
      " 23  vote_count             45460 non-null  float64\n",
      "dtypes: float64(4), object(20)\n",
      "memory usage: 8.3+ MB\n"
     ]
    }
   ],
   "source": [
    "movies_dataset.info()"
   ]
  },
  {
   "cell_type": "markdown",
   "metadata": {},
   "source": [
    "# Data cleaning and feature engineering - categorical variables"
   ]
  },
  {
   "cell_type": "code",
   "execution_count": 43,
   "metadata": {},
   "outputs": [],
   "source": [
    "#In this exercise, only a subset of all features will be used. Let us start with\n",
    "#dropping unnecessary features and dealing with the missing data.\n",
    "movies_dataset.drop(['belongs_to_collection','homepage', 'poster_path', 'tagline', 'video', 'release_date',\n",
    "                      'overview', 'runtime', 'status','id', 'imdb_id', 'original_title', 'spoken_languages', \n",
    "                     'production_countries'],\n",
    "                    axis = 1, inplace = True)"
   ]
  },
  {
   "cell_type": "code",
   "execution_count": 44,
   "metadata": {},
   "outputs": [
    {
     "data": {
      "text/plain": [
       "adult                    0\n",
       "budget                   0\n",
       "genres                   0\n",
       "original_language       11\n",
       "popularity               5\n",
       "production_companies     3\n",
       "revenue                  6\n",
       "title                    6\n",
       "vote_average             6\n",
       "vote_count               6\n",
       "dtype: int64"
      ]
     },
     "execution_count": 44,
     "metadata": {},
     "output_type": "execute_result"
    }
   ],
   "source": [
    "#Check how many null values are there.\n",
    "\n",
    "movies_dataset.isnull().sum()"
   ]
  },
  {
   "cell_type": "code",
   "execution_count": 45,
   "metadata": {},
   "outputs": [],
   "source": [
    "#Given how large is the dataset, there are not so many missing data points, so we will delete the corresponding rows.\n",
    "\n",
    "movies_dataset.dropna(axis = 0, how = 'any', inplace = True)"
   ]
  },
  {
   "cell_type": "code",
   "execution_count": 46,
   "metadata": {},
   "outputs": [
    {
     "data": {
      "text/plain": [
       "False    45440\n",
       "True         9\n",
       "Name: adult, dtype: int64"
      ]
     },
     "execution_count": 46,
     "metadata": {},
     "output_type": "execute_result"
    }
   ],
   "source": [
    "#Let us see what is a distribution of the 'adult' variable's values.\n",
    "\n",
    "movies_dataset['adult'].value_counts()"
   ]
  },
  {
   "cell_type": "code",
   "execution_count": 47,
   "metadata": {},
   "outputs": [],
   "source": [
    "#Only a few rows contain True value for 'adult' feature. It means its variance is too low and the \n",
    "#contribution to the model developed will not be meaningful. Thus, this feature will be removed.\n",
    "\n",
    "movies_dataset.drop('adult', axis = 1, inplace = True)"
   ]
  },
  {
   "cell_type": "code",
   "execution_count": 48,
   "metadata": {},
   "outputs": [
    {
     "data": {
      "text/plain": [
       "array(['en', 'fr', 'zh', 'it', 'fa', 'nl', 'de', 'cn', 'ar', 'es', 'ru',\n",
       "       'sv', 'ja', 'ko', 'sr', 'bn', 'he', 'pt', 'wo', 'ro', 'hu', 'cy',\n",
       "       'vi', 'cs', 'da', 'no', 'nb', 'pl', 'el', 'sh', 'xx', 'mk', 'bo',\n",
       "       'ca', 'fi', 'th', 'sk', 'bs', 'hi', 'tr', 'is', 'ps', 'ab', 'eo',\n",
       "       'ka', 'mn', 'bm', 'zu', 'uk', 'af', 'la', 'et', 'ku', 'fy', 'lv',\n",
       "       'ta', 'sl', 'tl', 'ur', 'rw', 'id', 'bg', 'mr', 'lt', 'kk', 'ms',\n",
       "       'sq', 'qu', 'te', 'am', 'jv', 'tg', 'ml', 'hr', 'lo', 'ay', 'kn',\n",
       "       'eu', 'ne', 'pa', 'ky', 'gl', 'uz', 'sm', 'mt', 'hy', 'iu', 'lb',\n",
       "       'si'], dtype=object)"
      ]
     },
     "execution_count": 48,
     "metadata": {},
     "output_type": "execute_result"
    }
   ],
   "source": [
    "#Let's take a closer look to an 'original_language' variable.\n",
    "\n",
    "movies_dataset['original_language'].unique()"
   ]
  },
  {
   "cell_type": "code",
   "execution_count": 49,
   "metadata": {},
   "outputs": [
    {
     "data": {
      "text/plain": [
       "en    32267\n",
       "fr     2438\n",
       "it     1529\n",
       "ja     1349\n",
       "de     1080\n",
       "es      994\n",
       "ru      826\n",
       "hi      508\n",
       "Name: original_language, dtype: int64"
      ]
     },
     "execution_count": 49,
     "metadata": {},
     "output_type": "execute_result"
    }
   ],
   "source": [
    "#This variable's values look reasonable. We might create a few buckets for languages with highest number\n",
    "#of occurences and another called 'other' for minor ones, but firstly it is useful to check the distribution.\n",
    "\n",
    "movies_dataset['original_language'].value_counts().head(8)"
   ]
  },
  {
   "cell_type": "code",
   "execution_count": 50,
   "metadata": {},
   "outputs": [],
   "source": [
    "#There are more than 30000 occurences of English, and the second highest value - French covers around 5% of the whole\n",
    "#dataset. The desicion is to create 3 bins: English, French and Others.\n",
    "\n",
    "#This function creates bins for 'original_language':\n",
    "\n",
    "def language_binning(language):\n",
    "    if language == 'en':\n",
    "        return 'en';\n",
    "    elif language == 'fr':\n",
    "        return 'fr';\n",
    "    else:\n",
    "        return 'other'"
   ]
  },
  {
   "cell_type": "code",
   "execution_count": 51,
   "metadata": {},
   "outputs": [],
   "source": [
    "#Now, we will apply binning for all rows in the dataset and this way, create a new dataset 'dummy_language'. \n",
    "#Then in this new dataset we will drop the column 'original_language_en'in order to avoid introducing unnecessary \n",
    "#multicollinearity. After that we will join the two datasets together ang get rid of 'original_language' feature.\n",
    "\n",
    "movies_dataset['original_language'] = movies_dataset['original_language'].apply(language_binning)"
   ]
  },
  {
   "cell_type": "code",
   "execution_count": 52,
   "metadata": {},
   "outputs": [],
   "source": [
    "dummy_language = pd.get_dummies(movies_dataset['original_language'], prefix = 'language', drop_first = True)"
   ]
  },
  {
   "cell_type": "code",
   "execution_count": 53,
   "metadata": {},
   "outputs": [],
   "source": [
    "movies_dataset = pd.concat([movies_dataset, dummy_language], axis = 1)"
   ]
  },
  {
   "cell_type": "code",
   "execution_count": 54,
   "metadata": {},
   "outputs": [],
   "source": [
    "movies_dataset.drop('original_language', axis = 1, inplace = True)"
   ]
  },
  {
   "cell_type": "code",
   "execution_count": 55,
   "metadata": {},
   "outputs": [
    {
     "name": "stdout",
     "output_type": "stream",
     "text": [
      "<class 'str'> <class 'str'>\n"
     ]
    }
   ],
   "source": [
    "#Let us move on with other categorical features. What is the format of 'genres' and 'production_companies' features?\n",
    "\n",
    "print(type(movies_dataset['genres'][0]) , type(movies_dataset['production_companies'][0]))"
   ]
  },
  {
   "cell_type": "code",
   "execution_count": 56,
   "metadata": {},
   "outputs": [],
   "source": [
    "#Right now, 'genres' and 'production_companies' are in an unusable format - they are stringified lists of dictionaries.\n",
    "#Let us make lists out of them instead.\n",
    "\n",
    "from ast import literal_eval\n",
    "\n",
    "features = ['genres', 'production_companies']\n",
    "for feature in features:\n",
    "    movies_dataset[feature] = movies_dataset[feature].apply(literal_eval)"
   ]
  },
  {
   "cell_type": "code",
   "execution_count": 57,
   "metadata": {},
   "outputs": [
    {
     "name": "stdout",
     "output_type": "stream",
     "text": [
      "[{'id': 16, 'name': 'Animation'}, {'id': 35, 'name': 'Comedy'}, {'id': 10751, 'name': 'Family'}]\n",
      "[{'name': 'Pixar Animation Studios', 'id': 3}]\n"
     ]
    }
   ],
   "source": [
    "print(movies_dataset['genres'][0])\n",
    "print(movies_dataset['production_companies'][0])"
   ]
  },
  {
   "cell_type": "code",
   "execution_count": 58,
   "metadata": {},
   "outputs": [],
   "source": [
    "#We can see above that for both features, the corresponding genre/production company goes as a value for 'name' key.\n",
    "#Taking this into account, we will 'unpack' these dictionaries and leave only lists of these values.\n",
    "\n",
    "def get_element(list_of_elements):\n",
    "    if isinstance(list_of_elements, list):\n",
    "        names = [element['name'] for element in list_of_elements]\n",
    "        #Check if more than 4 elements exist. If yes, return only first four. If no, return entire list.\n",
    "        if len(names) > 4:\n",
    "            names = names[:4]\n",
    "        return names\n",
    "\n",
    "    #Return empty list in case of missing data\n",
    "    return []"
   ]
  },
  {
   "cell_type": "code",
   "execution_count": 59,
   "metadata": {},
   "outputs": [],
   "source": [
    "#Applying for the whole dataset.\n",
    "\n",
    "for feature in features:\n",
    "    movies_dataset[feature] = movies_dataset[feature].apply(get_element)"
   ]
  },
  {
   "cell_type": "code",
   "execution_count": 60,
   "metadata": {},
   "outputs": [
    {
     "data": {
      "text/plain": [
       "0                            [Pixar Animation Studios]\n",
       "1    [TriStar Pictures, Teitler Film, Interscope Co...\n",
       "2                       [Warner Bros., Lancaster Gate]\n",
       "3             [Twentieth Century Fox Film Corporation]\n",
       "4         [Sandollar Productions, Touchstone Pictures]\n",
       "Name: production_companies, dtype: object"
      ]
     },
     "execution_count": 60,
     "metadata": {},
     "output_type": "execute_result"
    }
   ],
   "source": [
    "#Check\n",
    "movies_dataset['production_companies'].head()"
   ]
  },
  {
   "cell_type": "code",
   "execution_count": 61,
   "metadata": {},
   "outputs": [],
   "source": [
    "#There are a lot of different movie production companies. According to information taken from\n",
    "#Wikipedia, we are going to manually create a list of major ones in order to see whether movies made by\n",
    "#these companies become more popular. Finally, we are going to flag each movie based on\n",
    "#whether the company that created it was or was not in the below list.\n",
    "\n",
    "major_companies = ['Twentieth Century Fox Film Corporation', 'Metro-Goldwyn-Mayer',  \n",
    "                    'New Line Cinema','Warner Bros.', 'Sony Pictures Entertainment',\n",
    "                   'Pixar Animation Studios', 'Paramount Pictures',\n",
    "                   'Columbia Pictures Corporation', 'Columbia Pictures',\n",
    "                   'Walt Disney Pictures', 'Universal Pictures', 'Universal Studios', 'TriStar Pictures']"
   ]
  },
  {
   "cell_type": "code",
   "execution_count": 62,
   "metadata": {},
   "outputs": [],
   "source": [
    "#Since it can be noticed two line above that for 'production_companies' values there are empty lists in some rows,\n",
    "#we will replace them with 'unknown'. If a movie was produced by more than one company an at least one of them\n",
    "#appears on the list, it will be classified as produced by a big company.\n",
    "\n",
    "def big_company(list_of_companies):\n",
    "    if not list_of_companies:\n",
    "        return 'unknown'\n",
    "    else:\n",
    "        if any(company in major_companies for company in list_of_companies):\n",
    "            return 'big_company'\n",
    "        else:\n",
    "            return 'small_company'"
   ]
  },
  {
   "cell_type": "code",
   "execution_count": 63,
   "metadata": {},
   "outputs": [],
   "source": [
    "#We need to repeat steps similar to the previous dealing with 'original_language'.\n",
    "\n",
    "movies_dataset['production_companies'] = movies_dataset['production_companies'].apply(big_company)"
   ]
  },
  {
   "cell_type": "code",
   "execution_count": 64,
   "metadata": {},
   "outputs": [
    {
     "data": {
      "text/plain": [
       "small_company    28045\n",
       "unknown          11871\n",
       "big_company       5533\n",
       "Name: production_companies, dtype: int64"
      ]
     },
     "execution_count": 64,
     "metadata": {},
     "output_type": "execute_result"
    }
   ],
   "source": [
    "movies_dataset['production_companies'].value_counts()"
   ]
  },
  {
   "cell_type": "code",
   "execution_count": 65,
   "metadata": {},
   "outputs": [],
   "source": [
    "dummy_company = pd.get_dummies(movies_dataset['production_companies'], prefix = 'company', drop_first = True)"
   ]
  },
  {
   "cell_type": "code",
   "execution_count": 66,
   "metadata": {},
   "outputs": [],
   "source": [
    "movies_dataset = pd.concat([movies_dataset, dummy_company], axis = 1)"
   ]
  },
  {
   "cell_type": "code",
   "execution_count": 67,
   "metadata": {},
   "outputs": [],
   "source": [
    "movies_dataset.drop('production_companies', axis = 1, inplace = True)"
   ]
  },
  {
   "cell_type": "code",
   "execution_count": 68,
   "metadata": {},
   "outputs": [],
   "source": [
    "#Let us see what is a distribution of 'genres' variable. \n",
    "#First of all, let us create an empty list and fill it with all genres for all rows.\n",
    "#Then we will define a function that creates a dictionary from this list.\n",
    "#Keys will be genres and values will be numbers of occurences of the given genre.\n",
    "\n",
    "all_genres = []"
   ]
  },
  {
   "cell_type": "code",
   "execution_count": 69,
   "metadata": {},
   "outputs": [
    {
     "data": {
      "text/plain": [
       "0        None\n",
       "1        None\n",
       "2        None\n",
       "3        None\n",
       "4        None\n",
       "         ... \n",
       "45461    None\n",
       "45462    None\n",
       "45463    None\n",
       "45464    None\n",
       "45465    None\n",
       "Name: genres, Length: 45449, dtype: object"
      ]
     },
     "execution_count": 69,
     "metadata": {},
     "output_type": "execute_result"
    }
   ],
   "source": [
    "movies_dataset['genres'].apply(lambda x : all_genres.extend(x))"
   ]
  },
  {
   "cell_type": "code",
   "execution_count": 70,
   "metadata": {},
   "outputs": [],
   "source": [
    "def dictionary_genres(genre_list):\n",
    "    dict_genres = dict()\n",
    "    for genre in genre_list:\n",
    "        current_count = dict_genres.get(genre)\n",
    "        dict_genres[genre] = (current_count or 0) + 1\n",
    "    return dict_genres;        "
   ]
  },
  {
   "cell_type": "code",
   "execution_count": 71,
   "metadata": {},
   "outputs": [],
   "source": [
    "my_dict = dictionary_genres(all_genres)"
   ]
  },
  {
   "cell_type": "code",
   "execution_count": 72,
   "metadata": {},
   "outputs": [],
   "source": [
    "#Let's check the distribution of this variable.\n",
    "\n",
    "genres = pd.Series(my_dict).sort_values()"
   ]
  },
  {
   "cell_type": "code",
   "execution_count": 73,
   "metadata": {},
   "outputs": [
    {
     "data": {
      "text/plain": [
       "<AxesSubplot:>"
      ]
     },
     "execution_count": 73,
     "metadata": {},
     "output_type": "execute_result"
    },
    {
     "data": {
      "image/png": "[encoded data removed]",
      "text/plain": [
       "<Figure size 432x288 with 1 Axes>"
      ]
     },
     "metadata": {
      "needs_background": "light"
     },
     "output_type": "display_data"
    }
   ],
   "source": [
    "genres.plot(kind = 'bar', x = \"genres\")"
   ]
  },
  {
   "cell_type": "code",
   "execution_count": 74,
   "metadata": {},
   "outputs": [],
   "source": [
    "#For some movies, the lists containing genres are empty. They will be replaced with the most occuring\n",
    "#value of this feature - with Drama.\n",
    "\n",
    "def impute_genre(genre_list):\n",
    "    if not genre_list:\n",
    "        return ['Drama'];\n",
    "    else:\n",
    "        return genre_list"
   ]
  },
  {
   "cell_type": "code",
   "execution_count": 75,
   "metadata": {},
   "outputs": [],
   "source": [
    "movies_dataset['genres'] = movies_dataset['genres'].apply(lambda x: impute_genre(x))"
   ]
  },
  {
   "cell_type": "code",
   "execution_count": 76,
   "metadata": {},
   "outputs": [],
   "source": [
    "#Now we are going to create single columns for each genre. These columns will be filled with zeros at the beginning.\n",
    "#Secondly, we are going to map all genres for a given movie to these new columns."
   ]
  },
  {
   "cell_type": "code",
   "execution_count": 77,
   "metadata": {},
   "outputs": [
    {
     "data": {
      "text/plain": [
       "array(['TV Movie', 'Western', 'War', 'History', 'Foreign', 'Music',\n",
       "       'Animation', 'Fantasy', 'Mystery', 'Family', 'Science Fiction',\n",
       "       'Adventure', 'Documentary', 'Crime', 'Horror', 'Action', 'Romance',\n",
       "       'Thriller', 'Comedy', 'Drama'], dtype=object)"
      ]
     },
     "execution_count": 77,
     "metadata": {},
     "output_type": "execute_result"
    }
   ],
   "source": [
    "genres.index.values"
   ]
  },
  {
   "cell_type": "code",
   "execution_count": 78,
   "metadata": {},
   "outputs": [],
   "source": [
    "def create_columns(movies_dataset):\n",
    "    for genre in genres.index.values:\n",
    "        movies_dataset[genre] = movies_dataset.apply(lambda _: '0', axis=1);\n",
    "    return movies_dataset"
   ]
  },
  {
   "cell_type": "code",
   "execution_count": 79,
   "metadata": {},
   "outputs": [
    {
     "data": {
      "text/html": [
       "<div>\n",
       "<style scoped>\n",
       "    .dataframe tbody tr th:only-of-type {\n",
       "        vertical-align: middle;\n",
       "    }\n",
       "\n",
       "    .dataframe tbody tr th {\n",
       "        vertical-align: top;\n",
       "    }\n",
       "\n",
       "    .dataframe thead th {\n",
       "        text-align: right;\n",
       "    }\n",
       "</style>\n",
       "<table border=\"1\" class=\"dataframe\">\n",
       "  <thead>\n",
       "    <tr style=\"text-align: right;\">\n",
       "      <th></th>\n",
       "      <th>budget</th>\n",
       "      <th>genres</th>\n",
       "      <th>popularity</th>\n",
       "      <th>revenue</th>\n",
       "      <th>title</th>\n",
       "      <th>vote_average</th>\n",
       "      <th>vote_count</th>\n",
       "      <th>language_fr</th>\n",
       "      <th>language_other</th>\n",
       "      <th>company_small_company</th>\n",
       "      <th>...</th>\n",
       "      <th>Science Fiction</th>\n",
       "      <th>Adventure</th>\n",
       "      <th>Documentary</th>\n",
       "      <th>Crime</th>\n",
       "      <th>Horror</th>\n",
       "      <th>Action</th>\n",
       "      <th>Romance</th>\n",
       "      <th>Thriller</th>\n",
       "      <th>Comedy</th>\n",
       "      <th>Drama</th>\n",
       "    </tr>\n",
       "  </thead>\n",
       "  <tbody>\n",
       "    <tr>\n",
       "      <th>0</th>\n",
       "      <td>30000000</td>\n",
       "      <td>[Animation, Comedy, Family]</td>\n",
       "      <td>21.9469</td>\n",
       "      <td>373554033.0</td>\n",
       "      <td>Toy Story</td>\n",
       "      <td>7.7</td>\n",
       "      <td>5415.0</td>\n",
       "      <td>0</td>\n",
       "      <td>0</td>\n",
       "      <td>0</td>\n",
       "      <td>...</td>\n",
       "      <td>0</td>\n",
       "      <td>0</td>\n",
       "      <td>0</td>\n",
       "      <td>0</td>\n",
       "      <td>0</td>\n",
       "      <td>0</td>\n",
       "      <td>0</td>\n",
       "      <td>0</td>\n",
       "      <td>0</td>\n",
       "      <td>0</td>\n",
       "    </tr>\n",
       "    <tr>\n",
       "      <th>1</th>\n",
       "      <td>65000000</td>\n",
       "      <td>[Adventure, Fantasy, Family]</td>\n",
       "      <td>17.0155</td>\n",
       "      <td>262797249.0</td>\n",
       "      <td>Jumanji</td>\n",
       "      <td>6.9</td>\n",
       "      <td>2413.0</td>\n",
       "      <td>0</td>\n",
       "      <td>0</td>\n",
       "      <td>0</td>\n",
       "      <td>...</td>\n",
       "      <td>0</td>\n",
       "      <td>0</td>\n",
       "      <td>0</td>\n",
       "      <td>0</td>\n",
       "      <td>0</td>\n",
       "      <td>0</td>\n",
       "      <td>0</td>\n",
       "      <td>0</td>\n",
       "      <td>0</td>\n",
       "      <td>0</td>\n",
       "    </tr>\n",
       "    <tr>\n",
       "      <th>2</th>\n",
       "      <td>0</td>\n",
       "      <td>[Romance, Comedy]</td>\n",
       "      <td>11.7129</td>\n",
       "      <td>0.0</td>\n",
       "      <td>Grumpier Old Men</td>\n",
       "      <td>6.5</td>\n",
       "      <td>92.0</td>\n",
       "      <td>0</td>\n",
       "      <td>0</td>\n",
       "      <td>0</td>\n",
       "      <td>...</td>\n",
       "      <td>0</td>\n",
       "      <td>0</td>\n",
       "      <td>0</td>\n",
       "      <td>0</td>\n",
       "      <td>0</td>\n",
       "      <td>0</td>\n",
       "      <td>0</td>\n",
       "      <td>0</td>\n",
       "      <td>0</td>\n",
       "      <td>0</td>\n",
       "    </tr>\n",
       "    <tr>\n",
       "      <th>3</th>\n",
       "      <td>16000000</td>\n",
       "      <td>[Comedy, Drama, Romance]</td>\n",
       "      <td>3.85949</td>\n",
       "      <td>81452156.0</td>\n",
       "      <td>Waiting to Exhale</td>\n",
       "      <td>6.1</td>\n",
       "      <td>34.0</td>\n",
       "      <td>0</td>\n",
       "      <td>0</td>\n",
       "      <td>0</td>\n",
       "      <td>...</td>\n",
       "      <td>0</td>\n",
       "      <td>0</td>\n",
       "      <td>0</td>\n",
       "      <td>0</td>\n",
       "      <td>0</td>\n",
       "      <td>0</td>\n",
       "      <td>0</td>\n",
       "      <td>0</td>\n",
       "      <td>0</td>\n",
       "      <td>0</td>\n",
       "    </tr>\n",
       "    <tr>\n",
       "      <th>4</th>\n",
       "      <td>0</td>\n",
       "      <td>[Comedy]</td>\n",
       "      <td>8.38752</td>\n",
       "      <td>76578911.0</td>\n",
       "      <td>Father of the Bride Part II</td>\n",
       "      <td>5.7</td>\n",
       "      <td>173.0</td>\n",
       "      <td>0</td>\n",
       "      <td>0</td>\n",
       "      <td>1</td>\n",
       "      <td>...</td>\n",
       "      <td>0</td>\n",
       "      <td>0</td>\n",
       "      <td>0</td>\n",
       "      <td>0</td>\n",
       "      <td>0</td>\n",
       "      <td>0</td>\n",
       "      <td>0</td>\n",
       "      <td>0</td>\n",
       "      <td>0</td>\n",
       "      <td>0</td>\n",
       "    </tr>\n",
       "    <tr>\n",
       "      <th>...</th>\n",
       "      <td>...</td>\n",
       "      <td>...</td>\n",
       "      <td>...</td>\n",
       "      <td>...</td>\n",
       "      <td>...</td>\n",
       "      <td>...</td>\n",
       "      <td>...</td>\n",
       "      <td>...</td>\n",
       "      <td>...</td>\n",
       "      <td>...</td>\n",
       "      <td>...</td>\n",
       "      <td>...</td>\n",
       "      <td>...</td>\n",
       "      <td>...</td>\n",
       "      <td>...</td>\n",
       "      <td>...</td>\n",
       "      <td>...</td>\n",
       "      <td>...</td>\n",
       "      <td>...</td>\n",
       "      <td>...</td>\n",
       "      <td>...</td>\n",
       "    </tr>\n",
       "    <tr>\n",
       "      <th>45461</th>\n",
       "      <td>0</td>\n",
       "      <td>[Drama, Family]</td>\n",
       "      <td>0.072051</td>\n",
       "      <td>0.0</td>\n",
       "      <td>Subdue</td>\n",
       "      <td>4.0</td>\n",
       "      <td>1.0</td>\n",
       "      <td>0</td>\n",
       "      <td>1</td>\n",
       "      <td>0</td>\n",
       "      <td>...</td>\n",
       "      <td>0</td>\n",
       "      <td>0</td>\n",
       "      <td>0</td>\n",
       "      <td>0</td>\n",
       "      <td>0</td>\n",
       "      <td>0</td>\n",
       "      <td>0</td>\n",
       "      <td>0</td>\n",
       "      <td>0</td>\n",
       "      <td>0</td>\n",
       "    </tr>\n",
       "    <tr>\n",
       "      <th>45462</th>\n",
       "      <td>0</td>\n",
       "      <td>[Drama]</td>\n",
       "      <td>0.178241</td>\n",
       "      <td>0.0</td>\n",
       "      <td>Century of Birthing</td>\n",
       "      <td>9.0</td>\n",
       "      <td>3.0</td>\n",
       "      <td>0</td>\n",
       "      <td>1</td>\n",
       "      <td>1</td>\n",
       "      <td>...</td>\n",
       "      <td>0</td>\n",
       "      <td>0</td>\n",
       "      <td>0</td>\n",
       "      <td>0</td>\n",
       "      <td>0</td>\n",
       "      <td>0</td>\n",
       "      <td>0</td>\n",
       "      <td>0</td>\n",
       "      <td>0</td>\n",
       "      <td>0</td>\n",
       "    </tr>\n",
       "    <tr>\n",
       "      <th>45463</th>\n",
       "      <td>0</td>\n",
       "      <td>[Action, Drama, Thriller]</td>\n",
       "      <td>0.903007</td>\n",
       "      <td>0.0</td>\n",
       "      <td>Betrayal</td>\n",
       "      <td>3.8</td>\n",
       "      <td>6.0</td>\n",
       "      <td>0</td>\n",
       "      <td>0</td>\n",
       "      <td>1</td>\n",
       "      <td>...</td>\n",
       "      <td>0</td>\n",
       "      <td>0</td>\n",
       "      <td>0</td>\n",
       "      <td>0</td>\n",
       "      <td>0</td>\n",
       "      <td>0</td>\n",
       "      <td>0</td>\n",
       "      <td>0</td>\n",
       "      <td>0</td>\n",
       "      <td>0</td>\n",
       "    </tr>\n",
       "    <tr>\n",
       "      <th>45464</th>\n",
       "      <td>0</td>\n",
       "      <td>[Drama]</td>\n",
       "      <td>0.003503</td>\n",
       "      <td>0.0</td>\n",
       "      <td>Satan Triumphant</td>\n",
       "      <td>0.0</td>\n",
       "      <td>0.0</td>\n",
       "      <td>0</td>\n",
       "      <td>0</td>\n",
       "      <td>1</td>\n",
       "      <td>...</td>\n",
       "      <td>0</td>\n",
       "      <td>0</td>\n",
       "      <td>0</td>\n",
       "      <td>0</td>\n",
       "      <td>0</td>\n",
       "      <td>0</td>\n",
       "      <td>0</td>\n",
       "      <td>0</td>\n",
       "      <td>0</td>\n",
       "      <td>0</td>\n",
       "    </tr>\n",
       "    <tr>\n",
       "      <th>45465</th>\n",
       "      <td>0</td>\n",
       "      <td>[Drama]</td>\n",
       "      <td>0.163015</td>\n",
       "      <td>0.0</td>\n",
       "      <td>Queerama</td>\n",
       "      <td>0.0</td>\n",
       "      <td>0.0</td>\n",
       "      <td>0</td>\n",
       "      <td>0</td>\n",
       "      <td>0</td>\n",
       "      <td>...</td>\n",
       "      <td>0</td>\n",
       "      <td>0</td>\n",
       "      <td>0</td>\n",
       "      <td>0</td>\n",
       "      <td>0</td>\n",
       "      <td>0</td>\n",
       "      <td>0</td>\n",
       "      <td>0</td>\n",
       "      <td>0</td>\n",
       "      <td>0</td>\n",
       "    </tr>\n",
       "  </tbody>\n",
       "</table>\n",
       "<p>45449 rows × 31 columns</p>\n",
       "</div>"
      ],
      "text/plain": [
       "         budget                        genres popularity      revenue  \\\n",
       "0      30000000   [Animation, Comedy, Family]    21.9469  373554033.0   \n",
       "1      65000000  [Adventure, Fantasy, Family]    17.0155  262797249.0   \n",
       "2             0             [Romance, Comedy]    11.7129          0.0   \n",
       "3      16000000      [Comedy, Drama, Romance]    3.85949   81452156.0   \n",
       "4             0                      [Comedy]    8.38752   76578911.0   \n",
       "...         ...                           ...        ...          ...   \n",
       "45461         0               [Drama, Family]   0.072051          0.0   \n",
       "45462         0                       [Drama]   0.178241          0.0   \n",
       "45463         0     [Action, Drama, Thriller]   0.903007          0.0   \n",
       "45464         0                       [Drama]   0.003503          0.0   \n",
       "45465         0                       [Drama]   0.163015          0.0   \n",
       "\n",
       "                             title  vote_average  vote_count  language_fr  \\\n",
       "0                        Toy Story           7.7      5415.0            0   \n",
       "1                          Jumanji           6.9      2413.0            0   \n",
       "2                 Grumpier Old Men           6.5        92.0            0   \n",
       "3                Waiting to Exhale           6.1        34.0            0   \n",
       "4      Father of the Bride Part II           5.7       173.0            0   \n",
       "...                            ...           ...         ...          ...   \n",
       "45461                       Subdue           4.0         1.0            0   \n",
       "45462          Century of Birthing           9.0         3.0            0   \n",
       "45463                     Betrayal           3.8         6.0            0   \n",
       "45464             Satan Triumphant           0.0         0.0            0   \n",
       "45465                     Queerama           0.0         0.0            0   \n",
       "\n",
       "       language_other  company_small_company  ...  Science Fiction Adventure  \\\n",
       "0                   0                      0  ...                0         0   \n",
       "1                   0                      0  ...                0         0   \n",
       "2                   0                      0  ...                0         0   \n",
       "3                   0                      0  ...                0         0   \n",
       "4                   0                      1  ...                0         0   \n",
       "...               ...                    ...  ...              ...       ...   \n",
       "45461               1                      0  ...                0         0   \n",
       "45462               1                      1  ...                0         0   \n",
       "45463               0                      1  ...                0         0   \n",
       "45464               0                      1  ...                0         0   \n",
       "45465               0                      0  ...                0         0   \n",
       "\n",
       "      Documentary Crime Horror Action Romance Thriller Comedy Drama  \n",
       "0               0     0      0      0       0        0      0     0  \n",
       "1               0     0      0      0       0        0      0     0  \n",
       "2               0     0      0      0       0        0      0     0  \n",
       "3               0     0      0      0       0        0      0     0  \n",
       "4               0     0      0      0       0        0      0     0  \n",
       "...           ...   ...    ...    ...     ...      ...    ...   ...  \n",
       "45461           0     0      0      0       0        0      0     0  \n",
       "45462           0     0      0      0       0        0      0     0  \n",
       "45463           0     0      0      0       0        0      0     0  \n",
       "45464           0     0      0      0       0        0      0     0  \n",
       "45465           0     0      0      0       0        0      0     0  \n",
       "\n",
       "[45449 rows x 31 columns]"
      ]
     },
     "execution_count": 79,
     "metadata": {},
     "output_type": "execute_result"
    }
   ],
   "source": [
    "create_columns(movies_dataset)"
   ]
  },
  {
   "cell_type": "code",
   "execution_count": 80,
   "metadata": {},
   "outputs": [],
   "source": [
    "#Mapping genres to corresponding columns.\n",
    "\n",
    "def impute_genre_in_corresponding_column(row):\n",
    "    for i in movies_dataset['genres'][row]:\n",
    "        movies_dataset.loc[row, i] = 1;"
   ]
  },
  {
   "cell_type": "code",
   "execution_count": 81,
   "metadata": {},
   "outputs": [],
   "source": [
    "for index, row in movies_dataset.iterrows():\n",
    "    impute_genre_in_corresponding_column(index)"
   ]
  },
  {
   "cell_type": "code",
   "execution_count": 82,
   "metadata": {
    "scrolled": true
   },
   "outputs": [],
   "source": [
    "movies_dataset.drop(['genres'], axis = 1, inplace = True)"
   ]
  },
  {
   "cell_type": "code",
   "execution_count": 83,
   "metadata": {},
   "outputs": [
    {
     "data": {
      "text/html": [
       "<div>\n",
       "<style scoped>\n",
       "    .dataframe tbody tr th:only-of-type {\n",
       "        vertical-align: middle;\n",
       "    }\n",
       "\n",
       "    .dataframe tbody tr th {\n",
       "        vertical-align: top;\n",
       "    }\n",
       "\n",
       "    .dataframe thead th {\n",
       "        text-align: right;\n",
       "    }\n",
       "</style>\n",
       "<table border=\"1\" class=\"dataframe\">\n",
       "  <thead>\n",
       "    <tr style=\"text-align: right;\">\n",
       "      <th></th>\n",
       "      <th>budget</th>\n",
       "      <th>popularity</th>\n",
       "      <th>revenue</th>\n",
       "      <th>title</th>\n",
       "      <th>vote_average</th>\n",
       "      <th>vote_count</th>\n",
       "      <th>language_fr</th>\n",
       "      <th>language_other</th>\n",
       "      <th>company_small_company</th>\n",
       "      <th>company_unknown</th>\n",
       "      <th>...</th>\n",
       "      <th>Science Fiction</th>\n",
       "      <th>Adventure</th>\n",
       "      <th>Documentary</th>\n",
       "      <th>Crime</th>\n",
       "      <th>Horror</th>\n",
       "      <th>Action</th>\n",
       "      <th>Romance</th>\n",
       "      <th>Thriller</th>\n",
       "      <th>Comedy</th>\n",
       "      <th>Drama</th>\n",
       "    </tr>\n",
       "  </thead>\n",
       "  <tbody>\n",
       "    <tr>\n",
       "      <th>0</th>\n",
       "      <td>30000000</td>\n",
       "      <td>21.9469</td>\n",
       "      <td>373554033.0</td>\n",
       "      <td>Toy Story</td>\n",
       "      <td>7.7</td>\n",
       "      <td>5415.0</td>\n",
       "      <td>0</td>\n",
       "      <td>0</td>\n",
       "      <td>0</td>\n",
       "      <td>0</td>\n",
       "      <td>...</td>\n",
       "      <td>0</td>\n",
       "      <td>0</td>\n",
       "      <td>0</td>\n",
       "      <td>0</td>\n",
       "      <td>0</td>\n",
       "      <td>0</td>\n",
       "      <td>0</td>\n",
       "      <td>0</td>\n",
       "      <td>1</td>\n",
       "      <td>0</td>\n",
       "    </tr>\n",
       "    <tr>\n",
       "      <th>1</th>\n",
       "      <td>65000000</td>\n",
       "      <td>17.0155</td>\n",
       "      <td>262797249.0</td>\n",
       "      <td>Jumanji</td>\n",
       "      <td>6.9</td>\n",
       "      <td>2413.0</td>\n",
       "      <td>0</td>\n",
       "      <td>0</td>\n",
       "      <td>0</td>\n",
       "      <td>0</td>\n",
       "      <td>...</td>\n",
       "      <td>0</td>\n",
       "      <td>1</td>\n",
       "      <td>0</td>\n",
       "      <td>0</td>\n",
       "      <td>0</td>\n",
       "      <td>0</td>\n",
       "      <td>0</td>\n",
       "      <td>0</td>\n",
       "      <td>0</td>\n",
       "      <td>0</td>\n",
       "    </tr>\n",
       "    <tr>\n",
       "      <th>2</th>\n",
       "      <td>0</td>\n",
       "      <td>11.7129</td>\n",
       "      <td>0.0</td>\n",
       "      <td>Grumpier Old Men</td>\n",
       "      <td>6.5</td>\n",
       "      <td>92.0</td>\n",
       "      <td>0</td>\n",
       "      <td>0</td>\n",
       "      <td>0</td>\n",
       "      <td>0</td>\n",
       "      <td>...</td>\n",
       "      <td>0</td>\n",
       "      <td>0</td>\n",
       "      <td>0</td>\n",
       "      <td>0</td>\n",
       "      <td>0</td>\n",
       "      <td>0</td>\n",
       "      <td>1</td>\n",
       "      <td>0</td>\n",
       "      <td>1</td>\n",
       "      <td>0</td>\n",
       "    </tr>\n",
       "    <tr>\n",
       "      <th>3</th>\n",
       "      <td>16000000</td>\n",
       "      <td>3.85949</td>\n",
       "      <td>81452156.0</td>\n",
       "      <td>Waiting to Exhale</td>\n",
       "      <td>6.1</td>\n",
       "      <td>34.0</td>\n",
       "      <td>0</td>\n",
       "      <td>0</td>\n",
       "      <td>0</td>\n",
       "      <td>0</td>\n",
       "      <td>...</td>\n",
       "      <td>0</td>\n",
       "      <td>0</td>\n",
       "      <td>0</td>\n",
       "      <td>0</td>\n",
       "      <td>0</td>\n",
       "      <td>0</td>\n",
       "      <td>1</td>\n",
       "      <td>0</td>\n",
       "      <td>1</td>\n",
       "      <td>1</td>\n",
       "    </tr>\n",
       "    <tr>\n",
       "      <th>4</th>\n",
       "      <td>0</td>\n",
       "      <td>8.38752</td>\n",
       "      <td>76578911.0</td>\n",
       "      <td>Father of the Bride Part II</td>\n",
       "      <td>5.7</td>\n",
       "      <td>173.0</td>\n",
       "      <td>0</td>\n",
       "      <td>0</td>\n",
       "      <td>1</td>\n",
       "      <td>0</td>\n",
       "      <td>...</td>\n",
       "      <td>0</td>\n",
       "      <td>0</td>\n",
       "      <td>0</td>\n",
       "      <td>0</td>\n",
       "      <td>0</td>\n",
       "      <td>0</td>\n",
       "      <td>0</td>\n",
       "      <td>0</td>\n",
       "      <td>1</td>\n",
       "      <td>0</td>\n",
       "    </tr>\n",
       "  </tbody>\n",
       "</table>\n",
       "<p>5 rows × 30 columns</p>\n",
       "</div>"
      ],
      "text/plain": [
       "     budget popularity      revenue                        title  \\\n",
       "0  30000000    21.9469  373554033.0                    Toy Story   \n",
       "1  65000000    17.0155  262797249.0                      Jumanji   \n",
       "2         0    11.7129          0.0             Grumpier Old Men   \n",
       "3  16000000    3.85949   81452156.0            Waiting to Exhale   \n",
       "4         0    8.38752   76578911.0  Father of the Bride Part II   \n",
       "\n",
       "   vote_average  vote_count  language_fr  language_other  \\\n",
       "0           7.7      5415.0            0               0   \n",
       "1           6.9      2413.0            0               0   \n",
       "2           6.5        92.0            0               0   \n",
       "3           6.1        34.0            0               0   \n",
       "4           5.7       173.0            0               0   \n",
       "\n",
       "   company_small_company  company_unknown  ... Science Fiction Adventure  \\\n",
       "0                      0                0  ...               0         0   \n",
       "1                      0                0  ...               0         1   \n",
       "2                      0                0  ...               0         0   \n",
       "3                      0                0  ...               0         0   \n",
       "4                      1                0  ...               0         0   \n",
       "\n",
       "  Documentary Crime Horror Action Romance Thriller Comedy Drama  \n",
       "0           0     0      0      0       0        0      1     0  \n",
       "1           0     0      0      0       0        0      0     0  \n",
       "2           0     0      0      0       1        0      1     0  \n",
       "3           0     0      0      0       1        0      1     1  \n",
       "4           0     0      0      0       0        0      1     0  \n",
       "\n",
       "[5 rows x 30 columns]"
      ]
     },
     "execution_count": 83,
     "metadata": {},
     "output_type": "execute_result"
    }
   ],
   "source": [
    "#Check\n",
    "\n",
    "movies_dataset.head()"
   ]
  },
  {
   "cell_type": "markdown",
   "metadata": {},
   "source": [
    "# Data cleaning and feature engineering - numeric variables"
   ]
  },
  {
   "cell_type": "code",
   "execution_count": 84,
   "metadata": {},
   "outputs": [],
   "source": [
    "#Let's firstly change the type of popularity and budget to numeric\n",
    "#and then let's see whether the numeric variables require any engineering.\n",
    "\n",
    "movies_dataset['popularity'] = movies_dataset['popularity'].apply(pd.to_numeric, errors = 'coerce')\n",
    "movies_dataset['budget'] = movies_dataset['budget'].apply(pd.to_numeric, errors = 'coerce')"
   ]
  },
  {
   "cell_type": "code",
   "execution_count": 85,
   "metadata": {},
   "outputs": [
    {
     "data": {
      "text/html": [
       "<div>\n",
       "<style scoped>\n",
       "    .dataframe tbody tr th:only-of-type {\n",
       "        vertical-align: middle;\n",
       "    }\n",
       "\n",
       "    .dataframe tbody tr th {\n",
       "        vertical-align: top;\n",
       "    }\n",
       "\n",
       "    .dataframe thead th {\n",
       "        text-align: right;\n",
       "    }\n",
       "</style>\n",
       "<table border=\"1\" class=\"dataframe\">\n",
       "  <thead>\n",
       "    <tr style=\"text-align: right;\">\n",
       "      <th></th>\n",
       "      <th>budget</th>\n",
       "      <th>popularity</th>\n",
       "      <th>revenue</th>\n",
       "      <th>vote_average</th>\n",
       "      <th>vote_count</th>\n",
       "      <th>language_fr</th>\n",
       "      <th>language_other</th>\n",
       "      <th>company_small_company</th>\n",
       "      <th>company_unknown</th>\n",
       "    </tr>\n",
       "  </thead>\n",
       "  <tbody>\n",
       "    <tr>\n",
       "      <th>count</th>\n",
       "      <td>4.544900e+04</td>\n",
       "      <td>45449.000000</td>\n",
       "      <td>4.544900e+04</td>\n",
       "      <td>45449.000000</td>\n",
       "      <td>45449.000000</td>\n",
       "      <td>45449.000000</td>\n",
       "      <td>45449.000000</td>\n",
       "      <td>45449.000000</td>\n",
       "      <td>45449.000000</td>\n",
       "    </tr>\n",
       "    <tr>\n",
       "      <th>mean</th>\n",
       "      <td>4.225880e+06</td>\n",
       "      <td>2.922118</td>\n",
       "      <td>1.121206e+07</td>\n",
       "      <td>5.618803</td>\n",
       "      <td>109.923101</td>\n",
       "      <td>0.053643</td>\n",
       "      <td>0.236397</td>\n",
       "      <td>0.617065</td>\n",
       "      <td>0.261194</td>\n",
       "    </tr>\n",
       "    <tr>\n",
       "      <th>std</th>\n",
       "      <td>1.742666e+07</td>\n",
       "      <td>6.005997</td>\n",
       "      <td>6.433980e+07</td>\n",
       "      <td>1.923526</td>\n",
       "      <td>491.367028</td>\n",
       "      <td>0.225313</td>\n",
       "      <td>0.424873</td>\n",
       "      <td>0.486108</td>\n",
       "      <td>0.439290</td>\n",
       "    </tr>\n",
       "    <tr>\n",
       "      <th>min</th>\n",
       "      <td>0.000000e+00</td>\n",
       "      <td>0.000000</td>\n",
       "      <td>0.000000e+00</td>\n",
       "      <td>0.000000</td>\n",
       "      <td>0.000000</td>\n",
       "      <td>0.000000</td>\n",
       "      <td>0.000000</td>\n",
       "      <td>0.000000</td>\n",
       "      <td>0.000000</td>\n",
       "    </tr>\n",
       "    <tr>\n",
       "      <th>25%</th>\n",
       "      <td>0.000000e+00</td>\n",
       "      <td>0.386315</td>\n",
       "      <td>0.000000e+00</td>\n",
       "      <td>5.000000</td>\n",
       "      <td>3.000000</td>\n",
       "      <td>0.000000</td>\n",
       "      <td>0.000000</td>\n",
       "      <td>0.000000</td>\n",
       "      <td>0.000000</td>\n",
       "    </tr>\n",
       "    <tr>\n",
       "      <th>50%</th>\n",
       "      <td>0.000000e+00</td>\n",
       "      <td>1.128080</td>\n",
       "      <td>0.000000e+00</td>\n",
       "      <td>6.000000</td>\n",
       "      <td>10.000000</td>\n",
       "      <td>0.000000</td>\n",
       "      <td>0.000000</td>\n",
       "      <td>1.000000</td>\n",
       "      <td>0.000000</td>\n",
       "    </tr>\n",
       "    <tr>\n",
       "      <th>75%</th>\n",
       "      <td>0.000000e+00</td>\n",
       "      <td>3.679700</td>\n",
       "      <td>0.000000e+00</td>\n",
       "      <td>6.800000</td>\n",
       "      <td>34.000000</td>\n",
       "      <td>0.000000</td>\n",
       "      <td>0.000000</td>\n",
       "      <td>1.000000</td>\n",
       "      <td>1.000000</td>\n",
       "    </tr>\n",
       "    <tr>\n",
       "      <th>max</th>\n",
       "      <td>3.800000e+08</td>\n",
       "      <td>547.488298</td>\n",
       "      <td>2.787965e+09</td>\n",
       "      <td>10.000000</td>\n",
       "      <td>14075.000000</td>\n",
       "      <td>1.000000</td>\n",
       "      <td>1.000000</td>\n",
       "      <td>1.000000</td>\n",
       "      <td>1.000000</td>\n",
       "    </tr>\n",
       "  </tbody>\n",
       "</table>\n",
       "</div>"
      ],
      "text/plain": [
       "             budget    popularity       revenue  vote_average    vote_count  \\\n",
       "count  4.544900e+04  45449.000000  4.544900e+04  45449.000000  45449.000000   \n",
       "mean   4.225880e+06      2.922118  1.121206e+07      5.618803    109.923101   \n",
       "std    1.742666e+07      6.005997  6.433980e+07      1.923526    491.367028   \n",
       "min    0.000000e+00      0.000000  0.000000e+00      0.000000      0.000000   \n",
       "25%    0.000000e+00      0.386315  0.000000e+00      5.000000      3.000000   \n",
       "50%    0.000000e+00      1.128080  0.000000e+00      6.000000     10.000000   \n",
       "75%    0.000000e+00      3.679700  0.000000e+00      6.800000     34.000000   \n",
       "max    3.800000e+08    547.488298  2.787965e+09     10.000000  14075.000000   \n",
       "\n",
       "        language_fr  language_other  company_small_company  company_unknown  \n",
       "count  45449.000000    45449.000000           45449.000000     45449.000000  \n",
       "mean       0.053643        0.236397               0.617065         0.261194  \n",
       "std        0.225313        0.424873               0.486108         0.439290  \n",
       "min        0.000000        0.000000               0.000000         0.000000  \n",
       "25%        0.000000        0.000000               0.000000         0.000000  \n",
       "50%        0.000000        0.000000               1.000000         0.000000  \n",
       "75%        0.000000        0.000000               1.000000         1.000000  \n",
       "max        1.000000        1.000000               1.000000         1.000000  "
      ]
     },
     "execution_count": 85,
     "metadata": {},
     "output_type": "execute_result"
    }
   ],
   "source": [
    "movies_dataset.describe(include = [np.number])"
   ]
  },
  {
   "cell_type": "code",
   "execution_count": 86,
   "metadata": {},
   "outputs": [],
   "source": [
    "#Features: popularity, vote average and vote count have values that look reasonable. \n",
    "\n",
    "#However, there are two issues: \n",
    "\n",
    "#(1) The minimum value for revenue and budget is 0 and in a real world, this should not happen.\n",
    "#Below we see that there are more than 34000 rows where both values are 0.\n",
    "#Following an intuition we might assume that they are very important in modelling the final\n",
    "#movies' popularity and also these are the only ones related to the model's financial aspect.\n",
    "#It means that rows where both are equal 0 needs to be deleted.\n",
    "\n",
    "#But in order not to lose more data, the idea is that for rows where only one of those\n",
    "#(only budget or only revenue) is missing, we may create a helper model estimating the missing one\n",
    "#using the existing one plus some other variables; noting that of course we cannot use the dependent \n",
    "#variable of the main model - popularity.\n",
    "\n",
    "#(2) Features have values with very different ranges. The first model that will be developed \n",
    "# (the helper model that we will use to impute missing revenue/budget) will be a linear regression\n",
    "#model and this technique does not require features to be standardized (we are not going to include \n",
    "#polynomial or interaction terms. If we were going to do that, standardization would be required).\n",
    "\n",
    "#However, later on while building the final model, if we want to use Lasso/Rigde regression or SVM, they\n",
    "#would need to be standardized."
   ]
  },
  {
   "cell_type": "code",
   "execution_count": 87,
   "metadata": {},
   "outputs": [
    {
     "data": {
      "text/plain": [
       "34532"
      ]
     },
     "execution_count": 87,
     "metadata": {},
     "output_type": "execute_result"
    }
   ],
   "source": [
    "#How many rows are there for which both revenue and budget are missing; and how many for which only one is missing?\n",
    "\n",
    "movies_dataset[(movies_dataset['revenue'] == 0) & (movies_dataset['budget'] == 0)].count()[0]"
   ]
  },
  {
   "cell_type": "code",
   "execution_count": 88,
   "metadata": {},
   "outputs": [
    {
     "data": {
      "text/plain": [
       "3509"
      ]
     },
     "execution_count": 88,
     "metadata": {},
     "output_type": "execute_result"
    }
   ],
   "source": [
    "movies_dataset[(movies_dataset['revenue'] == 0) & (movies_dataset['budget'] != 0)].count()[0]"
   ]
  },
  {
   "cell_type": "code",
   "execution_count": 89,
   "metadata": {},
   "outputs": [
    {
     "data": {
      "text/plain": [
       "2027"
      ]
     },
     "execution_count": 89,
     "metadata": {},
     "output_type": "execute_result"
    }
   ],
   "source": [
    "movies_dataset[(movies_dataset['budget'] == 0) & (movies_dataset['revenue'] != 0)].count()[0]"
   ]
  },
  {
   "cell_type": "code",
   "execution_count": 90,
   "metadata": {},
   "outputs": [],
   "source": [
    "#The below dataset does not contain rows where both budget and revenue missing - from now on, we are working on this one.\n",
    "\n",
    "movies_new = movies_dataset[~((movies_dataset['revenue'] == 0) & (movies_dataset['budget'] == 0))]"
   ]
  },
  {
   "cell_type": "code",
   "execution_count": 91,
   "metadata": {},
   "outputs": [],
   "source": [
    "#We need to reset the old index, because later on, after scaling numeric variables, we will be replacing underlying values in \n",
    "#movies_new dataframe and indices need to match each other with those from dataframe called num_variables, created a few lines\n",
    "#below.\n",
    "\n",
    "movies_new.reset_index(inplace = True)"
   ]
  },
  {
   "cell_type": "code",
   "execution_count": 92,
   "metadata": {},
   "outputs": [
    {
     "name": "stderr",
     "output_type": "stream",
     "text": [
      "C:\\Users\\Patrycja\\anaconda3\\lib\\site-packages\\pandas\\core\\frame.py:4163: SettingWithCopyWarning: \n",
      "A value is trying to be set on a copy of a slice from a DataFrame\n",
      "\n",
      "See the caveats in the documentation: https://pandas.pydata.org/pandas-docs/stable/user_guide/indexing.html#returning-a-view-versus-a-copy\n",
      "  return super().drop(\n"
     ]
    }
   ],
   "source": [
    "movies_new.drop(['index'], axis = 1, inplace = True)"
   ]
  },
  {
   "cell_type": "code",
   "execution_count": 93,
   "metadata": {},
   "outputs": [],
   "source": [
    "#Scaling variables.\n",
    "\n",
    "from sklearn.preprocessing import StandardScaler"
   ]
  },
  {
   "cell_type": "code",
   "execution_count": 94,
   "metadata": {},
   "outputs": [],
   "source": [
    "scaler = StandardScaler()"
   ]
  },
  {
   "cell_type": "code",
   "execution_count": 95,
   "metadata": {},
   "outputs": [],
   "source": [
    "num_variables = ['budget', 'revenue', 'vote_average', 'vote_count']"
   ]
  },
  {
   "cell_type": "code",
   "execution_count": 96,
   "metadata": {},
   "outputs": [
    {
     "data": {
      "text/plain": [
       "StandardScaler()"
      ]
     },
     "execution_count": 96,
     "metadata": {},
     "output_type": "execute_result"
    }
   ],
   "source": [
    "scaler.fit(movies_new[num_variables])"
   ]
  },
  {
   "cell_type": "code",
   "execution_count": 97,
   "metadata": {},
   "outputs": [
    {
     "data": {
      "text/html": [
       "<div>\n",
       "<style scoped>\n",
       "    .dataframe tbody tr th:only-of-type {\n",
       "        vertical-align: middle;\n",
       "    }\n",
       "\n",
       "    .dataframe tbody tr th {\n",
       "        vertical-align: top;\n",
       "    }\n",
       "\n",
       "    .dataframe thead th {\n",
       "        text-align: right;\n",
       "    }\n",
       "</style>\n",
       "<table border=\"1\" class=\"dataframe\">\n",
       "  <thead>\n",
       "    <tr style=\"text-align: right;\">\n",
       "      <th></th>\n",
       "      <th>budget</th>\n",
       "      <th>revenue</th>\n",
       "      <th>vote_average</th>\n",
       "      <th>vote_count</th>\n",
       "    </tr>\n",
       "  </thead>\n",
       "  <tbody>\n",
       "    <tr>\n",
       "      <th>0</th>\n",
       "      <td>30000000</td>\n",
       "      <td>373554033.0</td>\n",
       "      <td>7.7</td>\n",
       "      <td>5415.0</td>\n",
       "    </tr>\n",
       "    <tr>\n",
       "      <th>1</th>\n",
       "      <td>65000000</td>\n",
       "      <td>262797249.0</td>\n",
       "      <td>6.9</td>\n",
       "      <td>2413.0</td>\n",
       "    </tr>\n",
       "    <tr>\n",
       "      <th>2</th>\n",
       "      <td>16000000</td>\n",
       "      <td>81452156.0</td>\n",
       "      <td>6.1</td>\n",
       "      <td>34.0</td>\n",
       "    </tr>\n",
       "    <tr>\n",
       "      <th>3</th>\n",
       "      <td>0</td>\n",
       "      <td>76578911.0</td>\n",
       "      <td>5.7</td>\n",
       "      <td>173.0</td>\n",
       "    </tr>\n",
       "    <tr>\n",
       "      <th>4</th>\n",
       "      <td>60000000</td>\n",
       "      <td>187436818.0</td>\n",
       "      <td>7.7</td>\n",
       "      <td>1886.0</td>\n",
       "    </tr>\n",
       "  </tbody>\n",
       "</table>\n",
       "</div>"
      ],
      "text/plain": [
       "     budget      revenue  vote_average  vote_count\n",
       "0  30000000  373554033.0           7.7      5415.0\n",
       "1  65000000  262797249.0           6.9      2413.0\n",
       "2  16000000   81452156.0           6.1        34.0\n",
       "3         0   76578911.0           5.7       173.0\n",
       "4  60000000  187436818.0           7.7      1886.0"
      ]
     },
     "execution_count": 97,
     "metadata": {},
     "output_type": "execute_result"
    }
   ],
   "source": [
    "movies_new[num_variables].head()"
   ]
  },
  {
   "cell_type": "code",
   "execution_count": 98,
   "metadata": {},
   "outputs": [],
   "source": [
    "scaled_features = scaler.transform(movies_new[num_variables])"
   ]
  },
  {
   "cell_type": "code",
   "execution_count": 99,
   "metadata": {},
   "outputs": [],
   "source": [
    "dataframe_features = pd.DataFrame(scaled_features,columns = ['budget', 'revenue', 'vote_average', 'vote_count'])"
   ]
  },
  {
   "cell_type": "code",
   "execution_count": 100,
   "metadata": {},
   "outputs": [
    {
     "data": {
      "text/html": [
       "<div>\n",
       "<style scoped>\n",
       "    .dataframe tbody tr th:only-of-type {\n",
       "        vertical-align: middle;\n",
       "    }\n",
       "\n",
       "    .dataframe tbody tr th {\n",
       "        vertical-align: top;\n",
       "    }\n",
       "\n",
       "    .dataframe thead th {\n",
       "        text-align: right;\n",
       "    }\n",
       "</style>\n",
       "<table border=\"1\" class=\"dataframe\">\n",
       "  <thead>\n",
       "    <tr style=\"text-align: right;\">\n",
       "      <th></th>\n",
       "      <th>budget</th>\n",
       "      <th>revenue</th>\n",
       "      <th>vote_average</th>\n",
       "      <th>vote_count</th>\n",
       "    </tr>\n",
       "  </thead>\n",
       "  <tbody>\n",
       "    <tr>\n",
       "      <th>0</th>\n",
       "      <td>0.386758</td>\n",
       "      <td>2.618958</td>\n",
       "      <td>1.344113</td>\n",
       "      <td>5.321016</td>\n",
       "    </tr>\n",
       "    <tr>\n",
       "      <th>1</th>\n",
       "      <td>1.477793</td>\n",
       "      <td>1.731567</td>\n",
       "      <td>0.702553</td>\n",
       "      <td>2.136703</td>\n",
       "    </tr>\n",
       "    <tr>\n",
       "      <th>2</th>\n",
       "      <td>-0.049655</td>\n",
       "      <td>0.278618</td>\n",
       "      <td>0.060993</td>\n",
       "      <td>-0.386775</td>\n",
       "    </tr>\n",
       "    <tr>\n",
       "      <th>3</th>\n",
       "      <td>-0.548414</td>\n",
       "      <td>0.239573</td>\n",
       "      <td>-0.259787</td>\n",
       "      <td>-0.239334</td>\n",
       "    </tr>\n",
       "    <tr>\n",
       "      <th>4</th>\n",
       "      <td>1.321930</td>\n",
       "      <td>1.127774</td>\n",
       "      <td>1.344113</td>\n",
       "      <td>1.577698</td>\n",
       "    </tr>\n",
       "  </tbody>\n",
       "</table>\n",
       "</div>"
      ],
      "text/plain": [
       "     budget   revenue  vote_average  vote_count\n",
       "0  0.386758  2.618958      1.344113    5.321016\n",
       "1  1.477793  1.731567      0.702553    2.136703\n",
       "2 -0.049655  0.278618      0.060993   -0.386775\n",
       "3 -0.548414  0.239573     -0.259787   -0.239334\n",
       "4  1.321930  1.127774      1.344113    1.577698"
      ]
     },
     "execution_count": 100,
     "metadata": {},
     "output_type": "execute_result"
    }
   ],
   "source": [
    "#Check\n",
    "\n",
    "dataframe_features.head()"
   ]
  },
  {
   "cell_type": "code",
   "execution_count": 101,
   "metadata": {},
   "outputs": [
    {
     "name": "stderr",
     "output_type": "stream",
     "text": [
      "<ipython-input-101-a58ab869850a>:2: SettingWithCopyWarning: \n",
      "A value is trying to be set on a copy of a slice from a DataFrame.\n",
      "Try using .loc[row_indexer,col_indexer] = value instead\n",
      "\n",
      "See the caveats in the documentation: https://pandas.pydata.org/pandas-docs/stable/user_guide/indexing.html#returning-a-view-versus-a-copy\n",
      "  movies_new[feature] = dataframe_features[feature]\n"
     ]
    }
   ],
   "source": [
    "for feature in num_variables:\n",
    "    movies_new[feature] = dataframe_features[feature]"
   ]
  },
  {
   "cell_type": "code",
   "execution_count": 102,
   "metadata": {},
   "outputs": [],
   "source": [
    "#Variables are scaled, we can move on. We will construct two linear regression models\n",
    "#and use them on rows where budget/revenue is equal to zero in order to estimate the\n",
    "#real values of the missing variable. \n",
    "\n",
    "#In order to do it, we need to construct models using a subset of the original dataset\n",
    "#where both revenue and budget are nonzero. \n",
    "#This subset, however, needs to be split into training and test dataset. Fortunately, we have 5000\n",
    "#movies with both revenue & budget nonzero values available, so taking 30% of those into the test dataset\n",
    "#we may conclude it is enough to esimate the test error. In case we had much smaller dataset, instead of\n",
    "#this technique we would choose some resampling method.\n",
    "\n",
    "#So, we are going to fit these two models on the training dataset and then evaluate their performance on the\n",
    "#test dataset. \n",
    "#Let us see a correlation matrix with numeric variables, and also some charts that will answer the question\n",
    "#whether including some dummy variables like production company, movie language\n",
    "#might provide a meaningful contribution to the model."
   ]
  },
  {
   "cell_type": "code",
   "execution_count": 103,
   "metadata": {},
   "outputs": [
    {
     "data": {
      "text/plain": [
       "<AxesSubplot:>"
      ]
     },
     "execution_count": 103,
     "metadata": {},
     "output_type": "execute_result"
    },
    {
     "data": {
      "image/png": "[encoded data removed]",
      "text/plain": [
       "<Figure size 432x288 with 2 Axes>"
      ]
     },
     "metadata": {
      "needs_background": "light"
     },
     "output_type": "display_data"
    }
   ],
   "source": [
    "sns.heatmap(movies_new[['budget', 'vote_average', 'vote_count', 'popularity', 'revenue']].corr(), annot = True)"
   ]
  },
  {
   "cell_type": "code",
   "execution_count": 104,
   "metadata": {},
   "outputs": [],
   "source": [
    "#To be continued"
   ]
  },
  {
   "cell_type": "code",
   "execution_count": null,
   "metadata": {},
   "outputs": [],
   "source": []
  }
 ],
 "metadata": {
  "celltoolbar": "Raw Cell Format",
  "kernelspec": {
   "display_name": "Python 3",
   "language": "python",
   "name": "python3"
  },
  "language_info": {
   "codemirror_mode": {
    "name": "ipython",
    "version": 3
   },
   "file_extension": ".py",
   "mimetype": "text/x-python",
   "name": "python",
   "nbconvert_exporter": "python",
   "pygments_lexer": "ipython3",
   "version": "3.8.5"
  }
 },
 "nbformat": 4,
 "nbformat_minor": 4
}
